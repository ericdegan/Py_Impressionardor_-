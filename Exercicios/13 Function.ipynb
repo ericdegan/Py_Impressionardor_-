{
 "cells": [
  {
   "cell_type": "markdown",
   "metadata": {},
   "source": [
    "# Argumentos/Parâmetros da Função\n",
    "\n",
    "### Estrutura:"
   ]
  },
  {
   "cell_type": "raw",
   "metadata": {},
   "source": [
    "def minha_funcao(parametro1, parametro2, parametro3):\n",
    "    return parametro1 + parametro2 + parametro3"
   ]
  },
  {
   "cell_type": "markdown",
   "metadata": {},
   "source": [
    "- Exemplo: nosso famoso print"
   ]
  },
  {
   "cell_type": "code",
   "execution_count": 16,
   "metadata": {},
   "outputs": [
    {
     "name": "stdout",
     "output_type": "stream",
     "text": [
      "Produto Iphone Vendas 50\n"
     ]
    }
   ],
   "source": [
    "vendas = 50\n",
    "print('Produto', 'Iphone', 'Vendas', vendas)"
   ]
  },
  {
   "cell_type": "markdown",
   "metadata": {},
   "source": [
    "- Só para mostrar o funcionamento, vamos criar uma função de soma"
   ]
  },
  {
   "cell_type": "code",
   "execution_count": 21,
   "metadata": {},
   "outputs": [
    {
     "name": "stdout",
     "output_type": "stream",
     "text": [
      "30\n"
     ]
    }
   ],
   "source": [
    "def minha_soma(num1, num2, num3):\n",
    "    return num1 + num2 + num3\n",
    "\n",
    "\n",
    "soma = minha_soma(10, 20, 0)\n",
    "print(soma)"
   ]
  },
  {
   "cell_type": "markdown",
   "metadata": {},
   "source": [
    "- Vamos criar uma function com parâmetro\n",
    "\n",
    "Digamos que estamos criando um programa para categorizar os produtos de uma revendedora de bebidas.\n",
    "\n",
    "Cada produto tem um código. O tipo de produto é dado pelas 3 primeiras letras do código.\n",
    "\n",
    "Ex:<br>\n",
    "Vinho -> BEB12302<br>\n",
    "Cerveja -> BEB12043<br>\n",
    "Vodka -> BEB34501<br>\n",
    "\n",
    "Guaraná -> BSA11104<br>\n",
    "Coca -> BSA54301<br>\n",
    "Sprite -> BSA34012<br>\n",
    "Água -> BSA09871<br>\n",
    "\n",
    "Repare que bebidas não alcóolicas começam com BSA e bebidas alcoolicas começam com BEB.\n",
    "\n",
    "Crie um programa que analise uma lista de produtos e envie instruções para a equipe de estoque dizendo quais produtos devem ser enviados para a área de bebidas alcóolicas."
   ]
  },
  {
   "cell_type": "code",
   "execution_count": 9,
   "metadata": {},
   "outputs": [
    {
     "name": "stdout",
     "output_type": "stream",
     "text": [
      "O produto BEB21365, deve ir para o setor de alcoolicos.\n",
      "None\n",
      "O produto BEB31623, deve ir para o setor de alcoolicos.\n",
      "None\n",
      "O produto BEB73344, deve ir para o setor de alcoolicos.\n",
      "None\n",
      "O produto BEB80694, deve ir para o setor de alcoolicos.\n",
      "None\n",
      "O produto BEB19495, deve ir para o setor de alcoolicos.\n",
      "None\n",
      "O produto BEB97471, deve ir para o setor de alcoolicos.\n",
      "None\n",
      "O produto BEB62362, deve ir para o setor de alcoolicos.\n",
      "None\n",
      "O produto BEB85146, deve ir para o setor de alcoolicos.\n",
      "None\n",
      "O produto BEB48898, deve ir para o setor de alcoolicos.\n",
      "None\n",
      "O produto BEB79496, deve ir para o setor de alcoolicos.\n",
      "None\n",
      "O produto BEB15385, deve ir para o setor de alcoolicos.\n",
      "None\n",
      "O produto BEB24213, deve ir para o setor de alcoolicos.\n",
      "None\n",
      "O produto BEB56262, deve ir para o setor de alcoolicos.\n",
      "None\n",
      "O produto BEB75073, deve ir para o setor de alcoolicos.\n",
      "None\n"
     ]
    }
   ],
   "source": [
    "produtos = ['beb46275','TFA23962','TFA64715','TFA69555','TFA56743','BSA45510','TFA44968','CAR75448','CAR23596','CAR13490','BEB21365','BEB31623','BSA62419','BEB73344','TFA20079','BEB80694','BSA11769','BEB19495','TFA14792','TFA78043','BSA33484','BEB97471','BEB62362','TFA27311','TFA17715','BEB85146','BEB48898','BEB79496','CAR38417','TFA19947','TFA58799','CAR94811','BSA59251','BEB15385','BEB24213','BEB56262','BSA96915','CAR53454','BEB75073']\n",
    "\n",
    "def produtos_alcoolicos():\n",
    "    for lista in produtos:\n",
    "        if 'BEB' in lista:\n",
    "            print(print(f'O produto {lista}, deve ir para o setor de alcoolicos.'))\n",
    "produtos_alcoolicos()            "
   ]
  },
  {
   "cell_type": "code",
   "execution_count": null,
   "metadata": {},
   "outputs": [],
   "source": []
  }
 ],
 "metadata": {
  "kernelspec": {
   "display_name": "Python 3",
   "language": "python",
   "name": "python3"
  },
  "language_info": {
   "codemirror_mode": {
    "name": "ipython",
    "version": 3
   },
   "file_extension": ".py",
   "mimetype": "text/x-python",
   "name": "python",
   "nbconvert_exporter": "python",
   "pygments_lexer": "ipython3",
   "version": "3.8.8"
  }
 },
 "nbformat": 4,
 "nbformat_minor": 4
}
