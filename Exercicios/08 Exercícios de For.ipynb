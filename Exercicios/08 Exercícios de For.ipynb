{
 "cells": [
  {
   "cell_type": "markdown",
   "metadata": {},
   "source": [
    "# Exercícios\n",
    "\n",
    "## 1. Calculando % de uma lista\n",
    "\n",
    "Faremos algo parecido com \"filtrar\" uma lista. Mais pra frente no curso aprenderemos outras formas de fazer isso, mas com o nosso conhecimentoa atual já conseguimos resolver o desafio.\n",
    "\n",
    "Digamos que a gente tenha uma lista de vendedores e ao invés de saber todos os vendedores que bateram a meta, eu quero conseguir calcular o % de vendedores que bateram a meta. Ou seja, se temos 10 vendedores e 3 bateram a meta, temos 30% dos vendedores que bateram a meta."
   ]
  },
  {
   "cell_type": "code",
   "execution_count": 24,
   "metadata": {},
   "outputs": [
    {
     "name": "stdout",
     "output_type": "stream",
     "text": [
      "6\n",
      "50% dos vendedores bateu a meta.\n"
     ]
    }
   ],
   "source": [
    "meta = 10000\n",
    "vendas = [\n",
    "    ['João', 15000],\n",
    "    ['Julia', 27000],\n",
    "    ['Marcus', 9900],\n",
    "    ['Maria', 3750],\n",
    "    ['Ana', 10300],\n",
    "    ['Alon', 7870],\n",
    "]\n",
    "quant = 0\n",
    "totV = len(vendas) \n",
    "print(totV)\n",
    "for i,vendedor in enumerate(vendas):\n",
    "    if vendedor[1] > meta:\n",
    "        quant += 1\n",
    "\n",
    "porcent = (quant  * 100) / totV       \n",
    "print(f'{porcent:.0f}% dos vendedores bateu a meta.')\n"
   ]
  },
  {
   "cell_type": "markdown",
   "metadata": {},
   "source": [
    "metaBatida = []\n",
    "for i,vendedor in enumerate(vendas):\n",
    "    if vendedor[1] > meta:\n",
    "        metaBatida.append(vendedor[0])  \n",
    "print(f'{len(metaBatida) / totV:.0%} bateu a meta' )"
   ]
  },
  {
   "cell_type": "markdown",
   "metadata": {},
   "source": [
    "## Para treinar uma estrutura parecida, crie um código para responder: quem foi o vendedor que mais vendeu?"
   ]
  },
  {
   "cell_type": "code",
   "execution_count": 36,
   "metadata": {},
   "outputs": [
    {
     "name": "stdout",
     "output_type": "stream",
     "text": [
      "Julia foi o vendedor(a) que mais vendeu com 27000\n"
     ]
    }
   ],
   "source": [
    "metaBatida = 0\n",
    "metaBatidaN = ''\n",
    "1715\n",
    "for i,vendedor in enumerate(vendas):\n",
    "    if vendedor[1] > metaBatida:\n",
    "        metaBatida = vendedor[1]\n",
    "        metaBatidaN = vendedor[0]\n",
    "\n",
    "print(f'{metaBatidaN} foi o vendedor(a) que mais vendeu com {metaBatida}')\n",
    "        \n",
    "        \n"
   ]
  },
  {
   "cell_type": "code",
   "execution_count": null,
   "metadata": {},
   "outputs": [],
   "source": []
  }
 ],
 "metadata": {
  "kernelspec": {
   "display_name": "Python 3",
   "language": "python",
   "name": "python3"
  },
  "language_info": {
   "codemirror_mode": {
    "name": "ipython",
    "version": 3
   },
   "file_extension": ".py",
   "mimetype": "text/x-python",
   "name": "python",
   "nbconvert_exporter": "python",
   "pygments_lexer": "ipython3",
   "version": "3.8.8"
  }
 },
 "nbformat": 4,
 "nbformat_minor": 4
}
