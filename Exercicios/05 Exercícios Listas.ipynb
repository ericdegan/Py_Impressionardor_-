{
 "cells": [
  {
   "cell_type": "markdown",
   "metadata": {},
   "source": [
    "# Exercícios\n",
    "\n",
    "## 1. Faturamento do Melhor e do Pior Mês do Ano\n",
    "\n",
    "Qual foi o valor de vendas do melhor mês do Ano?\n",
    "E valor do pior mês do ano?"
   ]
  },
  {
   "cell_type": "code",
   "execution_count": 71,
   "metadata": {},
   "outputs": [
    {
     "name": "stdout",
     "output_type": "stream",
     "text": [
      "Melhor mês vendeu 49051\n",
      "Pior mês vendeu 9650\n"
     ]
    }
   ],
   "source": [
    "meses = ['jan', 'fev', 'mar', 'abr', 'mai', 'jun', 'jul', 'ago', 'set', 'out', 'nov', 'dez']\n",
    "      #      0     1      2      3      4      5      6      7       8     9     10      11\n",
    "    \n",
    "          #       0      1      2      3      4      5 \n",
    "vendas_1sem = [25000, 29000, 22200, 17750, 15870, 19900]\n",
    "                    \n",
    "vendas_2sem = [19850, 20120, 17540, 15555, 49051, 9650]\n",
    "            #     6      7      8      9     10     11\n",
    "    \n",
    "listas = vendas_1sem + vendas_2sem    \n",
    "indiceMV = listas.index(melhorV)\n",
    "indicePV = listas.index(piorV)\n",
    "melhorV = max(listas)\n",
    "piorV = min(listas)\n",
    "\n",
    "print(f'Melhor mês vendeu {melhorV}')\n",
    "\n",
    "print(f'Pior mês vendeu {piorV}')\n",
    "\n"
   ]
  },
  {
   "cell_type": "markdown",
   "metadata": {},
   "source": [
    "## 2. Continuação\n",
    "\n",
    "Agora relacione as duas listas para printar 'O melhor mês do ano foi {} com {} vendas' e o mesmo para o pior mês do ano.\n",
    "\n",
    "Calcule também o faturamento total do Ano e quanto que o melhor mês representou do faturamento total.\n",
    "\n",
    "Obs: Para o faturamento total, pode usar a função sum(lista) que soma todos os itens de uma lista"
   ]
  },
  {
   "cell_type": "code",
   "execution_count": 60,
   "metadata": {},
   "outputs": [
    {
     "name": "stdout",
     "output_type": "stream",
     "text": [
      "Melhor mês do ano foi nov, com 49051 vendas.\n",
      "Pior mês do ano foi dez, com 9650 vendas.\n",
      "A soma total de vendas este ano foi de 261486 e o melhor mês representou 18.76% do total de vendas.\n"
     ]
    }
   ],
   "source": [
    "print(f'Melhor mês do ano foi {meses[indiceMV]}, com {melhorV} vendas.')\n",
    "print(f'Pior mês do ano foi {meses[indicePV]}, com {piorV} vendas.')\n",
    "x = (100 * 49051) / 261486\n",
    "\n",
    "\n",
    "print(f'A soma total de vendas este ano foi de {sum(listas)} e o melhor mês representou {x:.2f}% do total de vendas.')\n"
   ]
  },
  {
   "cell_type": "markdown",
   "metadata": {},
   "source": [
    "## 3. Crie uma lista com o top 3 valores de vendas do ano (sem fazer \"no olho\")\n",
    "\n",
    "Dica: o método remove retira um item da lista."
   ]
  },
  {
   "cell_type": "code",
   "execution_count": 72,
   "metadata": {},
   "outputs": [
    {
     "name": "stdout",
     "output_type": "stream",
     "text": [
      "49051\n",
      "10\n",
      "[25000, 29000, 22200, 17750, 15870, 19900, 19850, 20120, 17540, 15555, 9650]\n",
      "[49051, 29000, 25000]\n"
     ]
    }
   ],
   "source": [
    "lista = listas\n",
    "top3 = []\n",
    "\n",
    "top3.append(max(lista))\n",
    "\n",
    "lista.remove(max(lista))\n",
    "\n",
    "top3.append(max(lista))\n",
    "\n",
    "lista.remove(max(lista))\n",
    "\n",
    "top3.append(max(lista))\n",
    "\n",
    "\n",
    "print(top3)"
   ]
  },
  {
   "cell_type": "code",
   "execution_count": null,
   "metadata": {},
   "outputs": [],
   "source": []
  }
 ],
 "metadata": {
  "kernelspec": {
   "display_name": "Python 3",
   "language": "python",
   "name": "python3"
  },
  "language_info": {
   "codemirror_mode": {
    "name": "ipython",
    "version": 3
   },
   "file_extension": ".py",
   "mimetype": "text/x-python",
   "name": "python",
   "nbconvert_exporter": "python",
   "pygments_lexer": "ipython3",
   "version": "3.8.8"
  }
 },
 "nbformat": 4,
 "nbformat_minor": 4
}
