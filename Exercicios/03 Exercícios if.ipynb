{
 "cells": [
  {
   "cell_type": "markdown",
   "metadata": {},
   "source": [
    "# Exercícios"
   ]
  },
  {
   "cell_type": "markdown",
   "metadata": {},
   "source": [
    "## 1. Criando um mini sistema de controle de estoque\n",
    "\n",
    "- Crie um sistema para ser usado pelo time de controle de estoque de um centro de distribuição.\n",
    "- Imagine que ao fim de todo dia, o time conta quantas unidades de produto existem no estoque. Se tivermos um estoque abaixo do estoque permitido para aquela categoria do produto, o time deve ser avisado (print) para fazer um novo pedido daquele produto.\n",
    "- Cada categoria de produto tem um estoque mínimo diferente, segundo a regra abaixo:\n",
    "\n",
    "- alimentos -> Estoque mínimo: 50\n",
    "- bebidas -> Estoque mínimo: 75\n",
    "- limpeza -> Estoque mínimo: 30\n",
    "\n",
    "Para isso vamos criar um programa que pede 3 inputs do usuário: nome do produto, categoria e quantidade atual em estoque.\n",
    "\n",
    "Se o produto tiver abaixo do estoque mínimo da categoria dele, o programa deve printar a mensagem \"Solicitar {produto} à equipe de compras, temos apenas {unidades} em estoque\"\n",
    "\n",
    "Exemplo: Se o usuário preenche os inputs com: bebidas, dolly, 90, o programa não deve exibir nenhuma mensagem.<br>\n",
    "Agora, se o usuário preenche os inputs com: bebidas, guaraná, 60, o programa deve exibir a mensagem \"Solicitar guaraná à equipe de compras, temos apenas 60 unidades em estoque.\n",
    "\n",
    "Obs: lembre de usar o int() para transformar o número inserido pelo usuário no input de string para int.<br>\n",
    "Obs2: Caso o usuário não preencha alguma das 3 informações, o programa deve exibir uma mensagem para avisá-lo de preencher corretamente."
   ]
  },
  {
   "cell_type": "code",
   "execution_count": 4,
   "metadata": {},
   "outputs": [
    {
     "name": "stdout",
     "output_type": "stream",
     "text": [
      "Diga qual alimento foi contado: Cenoura\n",
      "Diga a quantidade de Cenoura temos em estoque: 21\n",
      "Diga qual bebida foi contada: Coca-cola\n",
      "Diga a quantidade de Coca-cola temos em estoque: 60\n",
      "Diga qual produto de limpeza foi contado: omo\n",
      "Diga a quantidade de omo temos em estoque: 12\n",
      "Solicitar Cenoura a equipe de compras faltam 29 para o minimo de estoque.\n",
      "Solicitar Coca-cola a equipe de compras faltam 15 para o minimo de estoque.\n",
      "Solicitar omo a equipe de compras faltam 18 para o minimo de estoque.\n"
     ]
    }
   ],
   "source": [
    "alimentoN = input('Diga qual alimento foi contado: ')\n",
    "alimentoQ = int(input(f'Diga a quantidade de {alimentoN} temos em estoque: '))\n",
    "bebidaN = input('Diga qual bebida foi contada: ')\n",
    "bebidaQ = int(input(f'Diga a quantidade de {bebidaN} temos em estoque: '))\n",
    "limpezaN = input('Diga qual produto de limpeza foi contado: ')\n",
    "limpezaQ = int(input(f'Diga a quantidade de {limpezaN} temos em estoque: '))\n",
    "\n",
    "if alimentoQ < 50:\n",
    "    print(f'Solicitar {alimentoN} a equipe de compras faltam {50 - alimentoQ} para o minimo de estoque.')\n",
    "if bebidaQ < 75:\n",
    "    print(f'Solicitar {bebidaN} a equipe de compras faltam {75 - bebidaQ} para o minimo de estoque.')\n",
    "if limpezaQ < 30:\n",
    "    print(f'Solicitar {limpezaN} a equipe de compras faltam {30 - limpezaQ} para o minimo de estoque.')"
   ]
  },
  {
   "cell_type": "code",
   "execution_count": null,
   "metadata": {},
   "outputs": [],
   "source": []
  }
 ],
 "metadata": {
  "kernelspec": {
   "display_name": "Python 3",
   "language": "python",
   "name": "python3"
  },
  "language_info": {
   "codemirror_mode": {
    "name": "ipython",
    "version": 3
   },
   "file_extension": ".py",
   "mimetype": "text/x-python",
   "name": "python",
   "nbconvert_exporter": "python",
   "pygments_lexer": "ipython3",
   "version": "3.8.8"
  }
 },
 "nbformat": 4,
 "nbformat_minor": 4
}
